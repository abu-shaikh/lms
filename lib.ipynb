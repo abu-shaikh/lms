{
 "cells": [
  {
   "cell_type": "code",
   "execution_count": null,
   "metadata": {},
   "outputs": [],
   "source": [
    "\n",
    "while True:\n",
    "    choice=int(input('0.exit \\n 1.signin  \\n 2. signup '))\n",
    "    if choice==0:\n",
    "\n",
    "        print('Succesfully Exited')\n",
    "\n",
    "        break\n",
    "    elif choice ==1:\n",
    "       signin()\n",
    "    elif choice ==2:\n",
    "       signup_member()\n",
    "       \n",
    "    else:\n",
    "        print('Wrong choice entered ! \\n Please try again')\n",
    "    \n"
   ]
  },
  {
   "cell_type": "code",
   "execution_count": 26,
   "metadata": {},
   "outputs": [],
   "source": [
    "def signin_librarian():\n",
    "    while True:\n",
    "        choice=int(input(\"1. edit profile \\n2. change password \\n3. find book by name \\n4. check book availability \\n5. add new book \\n6. add new copy \\n7. issue book copy \\n8. return book copy \\n9. list issued books \\n10. edit book \\n11. change rack \\n12. add member \\n13. take payment \\n14. payment history \\n15. list all users\\n0. exit\\n\"))\n",
    "        if choice==1:\n",
    "            print('edit profile')\n",
    "            #edit_profile()\n",
    "        elif choice==2:\n",
    "            print('change password')\n",
    "        elif choice==3:\n",
    "            print('find book by name')\n",
    "        elif choice==4:\n",
    "            print('check book availability')\n",
    "        elif choice==5:\n",
    "            print('add new book')\n",
    "        elif choice==6:\n",
    "            print('add new copy')\n",
    "           \n",
    "        \n",
    "        elif choice==7:\n",
    "            print('issue book copy')\n",
    "        elif choice==8:\n",
    "            print('return book copy')\n",
    "        elif choice==9:\n",
    "            print('list issued books')\n",
    "        elif choice==10:\n",
    "            print('edit book')\n",
    "        elif choice==11:\n",
    "            print('change rack')\n",
    "        elif choice==12:\n",
    "            print('add member')\n",
    "        \n",
    "        elif choice==13:\n",
    "            print('take payment')\n",
    "        elif choice==14:\n",
    "            print('payment history')\n",
    "        elif choice==15:\n",
    "            print('list all users')\n",
    "        elif choice==0:\n",
    "            print(\"Successfully exited !\")\n",
    "            break\n",
    "        else:\n",
    "            print('Wrong choice entered !!, Please try again')\n",
    "\n",
    "            \n",
    "\n",
    "\n",
    "    \n",
    "    "
   ]
  },
  {
   "cell_type": "code",
   "execution_count": null,
   "metadata": {},
   "outputs": [],
   "source": [
    "books()"
   ]
  },
  {
   "cell_type": "code",
   "execution_count": 1,
   "metadata": {},
   "outputs": [],
   "source": [
    "\n",
    "def add_new_book():\n",
    "    import psycopg2\n",
    "    conn=psycopg2.connect(database='library',user='postgres',password='pgdbda',host='127.0.0.1',port='5432')\n",
    "    cur=conn.cursor()\n",
    "    print('Enter book information')\n",
    "    a=input('Book name : ')\n",
    "    b=input('Author name : ')\n",
    "    c=input('Subject name : ')\n",
    "    d=float(input('Price : '))\n",
    "    e=int(input('ISBN : '))\n",
    "\t \n",
    "   \n",
    "    cur.execute('''insert into books (name,author,subject,price,isbn) values(%s,%s,%s,%s,%s)''', (a,b,c,d,e))\n",
    "    cur.execute('''insert into copies (book_id, rack) values((select * from currval('incc')), 1 )''')\n",
    "    \n",
    "    conn.commit()\n",
    "    conn.close()\n",
    "    print('Book added successfully')"
   ]
  },
  {
   "cell_type": "code",
   "execution_count": 2,
   "metadata": {},
   "outputs": [
    {
     "name": "stdout",
     "output_type": "stream",
     "text": [
      "Enter book information\n",
      "Book added successfully\n"
     ]
    }
   ],
   "source": [
    "add_new_copy()"
   ]
  },
  {
   "cell_type": "code",
   "execution_count": null,
   "metadata": {},
   "outputs": [],
   "source": [
    "def add_new_copy():\n",
    "    import psycopg2\n",
    "    conn=psycopg2.connect(database='library',user='postgres',password='pgdbda',host='127.0.0.1',port='5432')\n",
    "    cur=conn.cursor()\n",
    "    x=int(input('Enter Book Id'))\n",
    "    cur.execute('''insert into copies (book_id,rack) values(%s,1)''',x)\n",
    "    conn.commit()\n",
    "    conn.close()\n",
    "    print('Copy added successfully')"
   ]
  },
  {
   "cell_type": "code",
   "execution_count": null,
   "metadata": {},
   "outputs": [],
   "source": []
  },
  {
   "cell_type": "code",
   "execution_count": 2,
   "metadata": {},
   "outputs": [],
   "source": [
    "def signup_member():\n",
    "    import psycopg2\n",
    "    from psycopg2.extensions import AsIs\n",
    "    conn=psycopg2.connect(database='library',user='postgres',password='pgdbda',host='127.0.0.1',port='5432')\n",
    "    cur=conn.cursor()\n",
    "    name=(input('Enter name : '))\n",
    "    pwd=(input('Enter password : '))\n",
    "    phone=(input('Enter phone no. : '))\n",
    "    email=(input('Enter mail id : '))\n",
    "    cur.execute(\"\"\"create user %s with password %s\"\"\", (AsIs(name),pwd,))\n",
    "    cur.execute(''' grant select on books to %s ''', (AsIs(name),))\n",
    "    cur.execute(''' grant select on users to %s ''', (AsIs(name),))\n",
    "    cur.execute(''' insert into users (id,name,email,phone_no, password, role) values (nextval('users_seq'),%s,%s,%s,%s,'member')''',(name,pwd,phone,email,) )\n",
    "\n",
    "    conn.commit()\n",
    "    conn.close()"
   ]
  },
  {
   "cell_type": "code",
   "execution_count": 21,
   "metadata": {},
   "outputs": [],
   "source": [
    "signup_member()\n"
   ]
  },
  {
   "cell_type": "code",
   "execution_count": 16,
   "metadata": {},
   "outputs": [],
   "source": [
    "def signin():\n",
    "    usr=input('Enter name : ')\n",
    "    pas=input('Enter password : ')\n",
    "    import psycopg2\n",
    "    conn=psycopg2.connect(database='library', user=usr, password=pas,host='127.0.0.1',port='5432')\n",
    "    cur=conn.cursor()\n",
    "    cur.execute(''' select role from users where name=%s and email=%s''',(usr,pas))\n",
    "    x=cur.fetchall()\n",
    "    if x[0][0]=='member':\n",
    "      signin_member()\n",
    "        \n",
    "        \n",
    "    elif x[0][0]== 'librarian':\n",
    "      signin_librarian()\n",
    "    elif x[0][0]=='owner':\n",
    "      signin_owner()\n",
    "\n",
    "    print(x[0][0])\n",
    "    conn.commit()"
   ]
  },
  {
   "cell_type": "code",
   "execution_count": 28,
   "metadata": {},
   "outputs": [
    {
     "name": "stdout",
     "output_type": "stream",
     "text": [
      "Successfully Signed out\n",
      "owner\n"
     ]
    }
   ],
   "source": [
    "\n",
    "signin()"
   ]
  },
  {
   "cell_type": "code",
   "execution_count": 5,
   "metadata": {},
   "outputs": [],
   "source": [
    "def edit_profile():\n",
    "    u=input('Enter new email : ')\n",
    "    p=input('Enter new mobile_no. : ')\n",
    "\n",
    "    import psycopg2\n",
    "    conn=psycopg2.connect(database='library', user=usr, password=pas,host='127.0.0.1',port='5432')\n",
    "    cur=conn.cursor()\n",
    "    cur.execute('''  \n",
    "    ''')"
   ]
  },
  {
   "cell_type": "code",
   "execution_count": 16,
   "metadata": {},
   "outputs": [],
   "source": [
    "def signin_owner():\n",
    "\n",
    "   while True:\n",
    "      choice=int(input('0. Signout \\n 1. Edit profile  \\n 2. Change password \\n 3. Subjectwise copies report \\n 4. Bookwise copies report \\n 5. Fees/ Fine report '))\n",
    "      if choice==0:  \n",
    "          print('Successfully Signed out')   \n",
    "          break\n",
    "      elif choice ==1:\n",
    "         edit_profile() # baki hai\n",
    "      elif choice ==2:\n",
    "         change_password() # ye bhi\n",
    "      elif choice ==3:\n",
    "         subjectwise_copies_report()  # ye bhi\n",
    "      elif choice ==4:\n",
    "         bookwise_copies_report() # ye bhi\n",
    "      elif choice ==5:\n",
    "         fees/fine_report() # ye bhi\n",
    "      \n",
    "         \n",
    "      else:\n",
    "          print('Wrong choice entered ! \\n Please try again')"
   ]
  },
  {
   "cell_type": "code",
   "execution_count": 20,
   "metadata": {},
   "outputs": [
    {
     "name": "stdout",
     "output_type": "stream",
     "text": [
      "(7, 'ms dhoni untold story', 2, 1, 3)\n",
      "(8, 'harry potter', 2, 1, 3)\n",
      "(9, 'avatar', 1, 2, 3)\n",
      "Successfully Signed out\n"
     ]
    }
   ],
   "source": [
    "signin_owner()"
   ]
  },
  {
   "cell_type": "code",
   "execution_count": 6,
   "metadata": {},
   "outputs": [],
   "source": [
    "def signin_member():\n",
    "   while True:\n",
    "      choice=int(input('0. Signout \\n 1. Edit profile  \\n 2. Change password \\n 3. Find book by name \\n 4. Check book availability \\n 5. List issued books \\n 6. Payment history '))\n",
    "      if choice==0:\n",
    "         print('Successfully Signed out')\n",
    "         break\n",
    "      elif choice ==1:\n",
    "         edit_profile() # baki hai\n",
    "      elif choice ==2:\n",
    "         change_password() # ye bhi\n",
    "      elif choice ==3:\n",
    "         find_book()  # ye bhi\n",
    "      elif choice ==4:\n",
    "         check_book_avail() # ye bhi\n",
    "      elif choice ==5:\n",
    "         list_issued_books() # ye bhi\n",
    "      elif choice ==6:\n",
    "         payment_history() # ye bhi\n",
    "         \n",
    "      else:\n",
    "         print('Wrong choice entered ! \\n Please try again')"
   ]
  },
  {
   "cell_type": "code",
   "execution_count": 18,
   "metadata": {},
   "outputs": [],
   "source": [
    "def bookwise_copies_report():\n",
    "    import psycopg2\n",
    "    from psycopg2.extensions import AsIs\n",
    "    conn=psycopg2.connect(database='library',user='postgres',password='pgdbda',host='127.0.0.1',port='5432')\n",
    "    cur=conn.cursor()\n",
    "    cur.execute('''  with two as (with one as (select b.id,name,count(c.status) as available from books b left join copies c on book_id=b.id where status='available'group by b.id) select o.id,name,available, count(status)-available as issued, count(status) count from copies,one o group by o.id,name,available,book_id ) select * from two group by id,name,available,issued,count order by id ''')\n",
    "    r=cur.fetchall()\n",
    "    for i in r:\n",
    "\n",
    "        print(i)\n",
    "    conn.close()"
   ]
  }
 ],
 "metadata": {
  "interpreter": {
   "hash": "8c082ad94d003365404aaa792c2427edbdb355405d030d7fbdcd32a216153fc5"
  },
  "kernelspec": {
   "display_name": "Python 3.10.4 64-bit",
   "language": "python",
   "name": "python3"
  },
  "language_info": {
   "codemirror_mode": {
    "name": "ipython",
    "version": 3
   },
   "file_extension": ".py",
   "mimetype": "text/x-python",
   "name": "python",
   "nbconvert_exporter": "python",
   "pygments_lexer": "ipython3",
   "version": "3.10.4"
  },
  "orig_nbformat": 4
 },
 "nbformat": 4,
 "nbformat_minor": 2
}
